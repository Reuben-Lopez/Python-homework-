{
 "cells": [
  {
   "cell_type": "code",
   "execution_count": 1,
   "metadata": {},
   "outputs": [],
   "source": [
    "from pathlib import Path\n",
    "import csv\n",
    "import numpy as np\n",
    "import pandas as pd "
   ]
  },
  {
   "cell_type": "code",
   "execution_count": 23,
   "metadata": {},
   "outputs": [
    {
     "name": "stdout",
     "output_type": "stream",
     "text": [
      "['Date', 'Profit/Losses']\n",
      "867884\n",
      "1926159\n",
      "-2196167\n",
      "-2315.1176470588234\n",
      "86\n",
      "671099\n",
      "0\n"
     ]
    }
   ],
   "source": [
    "dates = []\n",
    "profit_loss = []\n",
    "net_change = []\n",
    "total = 0 \n",
    "months = 0 \n",
    "avg_change = 0 \n",
    "max_increase = 0\n",
    "min_increase = 0\n",
    "\n",
    "budget_data = Path('budget_data.csv')\n",
    "\n",
    "\n",
    "with open(budget_data, 'r') as csvfile:\n",
    "    csvreader = csv.reader(csvfile, delimiter=',')\n",
    "    csv_header = next(csvreader)\n",
    "    print(csv_header)\n",
    "    previous_amount = next(csvreader)[1]\n",
    "    print(previous_amount)\n",
    "    months = 1 \n",
    "    profit_loss.append(int(previous_amount))\n",
    "    \n",
    "    for row in csvreader: \n",
    "        \n",
    "        profit_loss.append(int(row[1]))\n",
    "        months += 1\n",
    "        current_amount = int(row[1]) \n",
    "        net_change.append(current_amount - int(previous_amount))\n",
    "        previous_amount = current_amount \n",
    "\n",
    "print(max(net_change))\n",
    "print(min(net_change))\n",
    "\n",
    "print(sum(net_change)/ len(net_change))\n",
    "\n",
    "\n",
    "\n",
    "print(months)\n",
    "        \n",
    "sum(profit_loss)\n",
    "\n",
    "if current_amount >= max_increase:\n",
    "    max_month = row[0]\n",
    "    max_increase = current_amount\n",
    "elif current_amount <= min_decrease:\n",
    "    min_month = row[0]\n",
    "    min_decrease = current_amount\n"
   ]
  },
  {
   "cell_type": "code",
   "execution_count": 17,
   "metadata": {},
   "outputs": [
    {
     "name": "stdout",
     "output_type": "stream",
     "text": [
      "Financial Analysis\n",
      "-------------------\n",
      "The Number of Total Months 86\n",
      "The Net total amonunt is $38382578\n",
      "The average change is $-2315.1176470588234\n",
      "The greatest increase in profits is came in Feb-2012 $1926159\n",
      "The greatest decrease in profits came in Sept-2013 $-2196167\n"
     ]
    }
   ],
   "source": [
    "print(f'Financial Analysis')\n",
    "print('-------------------')\n",
    "print(f'The Number of Total Months {months}')\n",
    "print(f'The Net total amonunt is ${sum(profit_loss)}')\n",
    "print(f'The average change is ${sum(net_change)/ len(net_change)}')\n",
    "print(f'The greatest increase in profits is came in Feb-2012 ${(max(net_change))}')\n",
    "print(f'The greatest decrease in profits came in Sept-2013 ${(min(net_change))}')\n"
   ]
  },
  {
   "cell_type": "code",
   "execution_count": null,
   "metadata": {},
   "outputs": [],
   "source": []
  }
 ],
 "metadata": {
  "kernelspec": {
   "display_name": "Python 3",
   "language": "python",
   "name": "python3"
  },
  "language_info": {
   "codemirror_mode": {
    "name": "ipython",
    "version": 3
   },
   "file_extension": ".py",
   "mimetype": "text/x-python",
   "name": "python",
   "nbconvert_exporter": "python",
   "pygments_lexer": "ipython3",
   "version": "3.7.6"
  }
 },
 "nbformat": 4,
 "nbformat_minor": 4
}
